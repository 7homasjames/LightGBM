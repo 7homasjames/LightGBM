{
 "cells": [
  {
   "cell_type": "markdown",
   "metadata": {},
   "source": [
    "### Import Packages"
   ]
  },
  {
   "cell_type": "code",
   "execution_count": 22,
   "metadata": {},
   "outputs": [],
   "source": [
    "import pandas as pd\n",
    "import numpy as np\n",
    "import random\n",
    "from datetime import datetime, timedelta\n",
    "from sklearn.model_selection import train_test_split\n",
    "from sklearn.preprocessing import LabelEncoder\n",
    "import lightgbm as lgb\n",
    "from sklearn.metrics import mean_squared_error\n"
   ]
  },
  {
   "cell_type": "markdown",
   "metadata": {},
   "source": [
    "### Define Functions"
   ]
  },
  {
   "cell_type": "code",
   "execution_count": 24,
   "metadata": {},
   "outputs": [
    {
     "name": "stdout",
     "output_type": "stream",
     "text": [
      "    Product_Name      Month  Quantity  Unit_Price  Sales_Revenue\n",
      "0      Product_E   November        50   54.208632    2710.431617\n",
      "1      Product_B        May        42   61.631856    2588.537965\n",
      "2      Product_E   November        91   69.705096    6343.163749\n",
      "3      Product_B       June        31   38.221082    1184.853530\n",
      "4      Product_C    October        40   15.495553     619.822110\n",
      "..           ...        ...       ...         ...            ...\n",
      "995    Product_B        May        26   77.326747    2010.495413\n",
      "996    Product_B  September        83   48.984324    4065.698894\n",
      "997    Product_E     August        71   25.161205    1786.445537\n",
      "998    Product_D  September        42   45.860213    1926.128965\n",
      "999    Product_D  September        84   12.369411    1039.030493\n",
      "\n",
      "[1000 rows x 5 columns]\n"
     ]
    }
   ],
   "source": [
    "\n",
    "PRODUCT_NAMES = ['Product_A', 'Product_B', 'Product_C', 'Product_D', 'Product_E']\n",
    "\n",
    "\n",
    "MONTHS = ['January', 'February', 'March', 'April', 'May', 'June', \n",
    "          'July', 'August', 'September', 'October', 'November', 'December']\n",
    "\n",
    "\n",
    "def random_date(start, end):\n",
    "    return start + timedelta(seconds=random.randint(0, int((end - start).total_seconds())))\n",
    "\n",
    "\n",
    "def create_dummy_dataset(num_rows, date_start, date_end):\n",
    "    date_start = datetime.strptime(date_start, '%Y-%m-%d')\n",
    "    date_end = datetime.strptime(date_end, '%Y-%m-%d')\n",
    "    \n",
    "\n",
    "    dates = [random_date(date_start, date_end) for _ in range(num_rows)]\n",
    "    \n",
    "\n",
    "    data = {\n",
    "        'Product_Name': [random.choice(PRODUCT_NAMES) for _ in range(num_rows)],  # Category 1: Product names\n",
    "        'Month': [random.choice(MONTHS) for _ in range(num_rows)],                # Category 2: Months\n",
    "        'Quantity': np.random.randint(1, 100, size=num_rows),                     # Category 3: Random quantities\n",
    "        'Unit_Price': np.random.uniform(10, 100, size=num_rows)                   # Random unit price for each product\n",
    "    }\n",
    "\n",
    "    data['Sales_Revenue'] = data['Quantity'] * data['Unit_Price']               \n",
    "    \n",
    "    df = pd.DataFrame(data)\n",
    "    print(df)\n",
    "    return df\n",
    "\n",
    "df = create_dummy_dataset(num_rows=1000, date_start='2023-01-01', date_end='2024-01-01')\n",
    "\n"
   ]
  },
  {
   "cell_type": "markdown",
   "metadata": {},
   "source": [
    "### Preprocessing"
   ]
  },
  {
   "cell_type": "code",
   "execution_count": 28,
   "metadata": {},
   "outputs": [
    {
     "name": "stdout",
     "output_type": "stream",
     "text": [
      "     Product_Name  Month  Quantity  Unit_Price  Sales_Revenue\n",
      "0               4      9        50   54.208632    2710.431617\n",
      "1               1      8        42   61.631856    2588.537965\n",
      "2               4      9        91   69.705096    6343.163749\n",
      "3               1      6        31   38.221082    1184.853530\n",
      "4               2     10        40   15.495553     619.822110\n",
      "..            ...    ...       ...         ...            ...\n",
      "995             1      8        26   77.326747    2010.495413\n",
      "996             1     11        83   48.984324    4065.698894\n",
      "997             4      1        71   25.161205    1786.445537\n",
      "998             3     11        42   45.860213    1926.128965\n",
      "999             3     11        84   12.369411    1039.030493\n",
      "\n",
      "[1000 rows x 5 columns]\n"
     ]
    }
   ],
   "source": [
    "def preprocess_data(df):\n",
    "    label_encoders = {}\n",
    "    for col in ['Product_Name', 'Month']:\n",
    "        le = LabelEncoder()\n",
    "        df[col] = le.fit_transform(df[col])\n",
    "        label_encoders[col] = le  # Store encoders if needed later\n",
    "\n",
    "    print(df)\n",
    "    \n",
    "    return df, label_encoders\n",
    "\n",
    "df_processed, label_encoders = preprocess_data(df)"
   ]
  },
  {
   "cell_type": "code",
   "execution_count": 29,
   "metadata": {},
   "outputs": [
    {
     "name": "stdout",
     "output_type": "stream",
     "text": [
      "Mean Squared Error: 16175.18127740074\n"
     ]
    }
   ],
   "source": [
    "def apply_lightgbm_regression(df):\n",
    "    X = df.drop('Sales_Revenue', axis=1)  \n",
    "    y = df['Sales_Revenue']              \n",
    "    \n",
    "\n",
    "    X_train, X_test, y_train, y_test = train_test_split(X, y, test_size=0.3, random_state=42)\n",
    "    \n",
    "    train_data = lgb.Dataset(X_train, label=y_train)\n",
    "    test_data = lgb.Dataset(X_test, label=y_test)\n",
    "\n",
    "    params = {\n",
    "        'objective': 'regression',\n",
    "        'metric': 'rmse',\n",
    "        'boosting_type': 'gbdt',\n",
    "        'num_leaves': 31,\n",
    "        'learning_rate': 0.05,\n",
    "        'feature_fraction': 0.9\n",
    "    }\n",
    "    \n",
    "\n",
    "    lgb_model = lgb.train(params, train_data, valid_sets=[test_data], num_boost_round=100)\n",
    "    y_pred = lgb_model.predict(X_test)\n",
    "    mse = mean_squared_error(y_test, y_pred)\n",
    "    print(\"Mean Squared Error:\",mse)\n",
    "    \n",
    "    return lgb_model\n",
    "\n",
    "\n",
    "model = apply_lightgbm_regression(df_processed)\n"
   ]
  }
 ],
 "metadata": {
  "kernelspec": {
   "display_name": "Python 3",
   "language": "python",
   "name": "python3"
  },
  "language_info": {
   "codemirror_mode": {
    "name": "ipython",
    "version": 3
   },
   "file_extension": ".py",
   "mimetype": "text/x-python",
   "name": "python",
   "nbconvert_exporter": "python",
   "pygments_lexer": "ipython3",
   "version": "3.10.11"
  }
 },
 "nbformat": 4,
 "nbformat_minor": 2
}
